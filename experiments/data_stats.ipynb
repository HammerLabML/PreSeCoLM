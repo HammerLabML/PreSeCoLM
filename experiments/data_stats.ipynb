{
 "cells": [
  {
   "cell_type": "code",
   "execution_count": 1,
   "id": "14ba14a4-1af8-4c53-96dd-1d97fd932bfb",
   "metadata": {},
   "outputs": [
    {
     "name": "stderr",
     "output_type": "stream",
     "text": [
      "2025-05-08 14:36:29.585617: E external/local_xla/xla/stream_executor/cuda/cuda_fft.cc:467] Unable to register cuFFT factory: Attempting to register factory for plugin cuFFT when one has already been registered\n",
      "WARNING: All log messages before absl::InitializeLog() is called are written to STDERR\n",
      "E0000 00:00:1746707789.598867  435370 cuda_dnn.cc:8579] Unable to register cuDNN factory: Attempting to register factory for plugin cuDNN when one has already been registered\n",
      "E0000 00:00:1746707789.602777  435370 cuda_blas.cc:1407] Unable to register cuBLAS factory: Attempting to register factory for plugin cuBLAS when one has already been registered\n",
      "W0000 00:00:1746707789.612622  435370 computation_placer.cc:177] computation placer already registered. Please check linkage and avoid linking the same target more than once.\n",
      "W0000 00:00:1746707789.612638  435370 computation_placer.cc:177] computation placer already registered. Please check linkage and avoid linking the same target more than once.\n",
      "W0000 00:00:1746707789.612640  435370 computation_placer.cc:177] computation placer already registered. Please check linkage and avoid linking the same target more than once.\n",
      "W0000 00:00:1746707789.612641  435370 computation_placer.cc:177] computation placer already registered. Please check linkage and avoid linking the same target more than once.\n",
      "2025-05-08 14:36:29.616159: I tensorflow/core/platform/cpu_feature_guard.cc:210] This TensorFlow binary is optimized to use available CPU instructions in performance-critical operations.\n",
      "To enable the following instructions: AVX2 FMA, in other operations, rebuild TensorFlow with the appropriate compiler flags.\n"
     ]
    }
   ],
   "source": [
    "import os\n",
    "import sys\n",
    "import json\n",
    "import pickle\n",
    "\n",
    "import matplotlib.pyplot as plt\n",
    "import seaborn as sns\n",
    "from tqdm import tqdm\n",
    "import pandas as pd\n",
    "\n",
    "import functools\n",
    "\n",
    "import numpy as np\n",
    "import math\n",
    "import random\n",
    "import scipy\n",
    "\n",
    "import plotting\n",
    "import utils\n",
    "import yaml\n",
    "\n",
    "sys.path.insert(0, os.path.abspath(os.path.join(os.getcwd(), '..')))\n",
    "from data_loader import BiosDataset, JigsawBias, CustomDataset, CrowSPairs, StereoSet, TwitterAAE, SBICDataset"
   ]
  },
  {
   "cell_type": "code",
   "execution_count": 2,
   "id": "ea4a56c3-cb95-4ab3-9864-f2a945ca212a",
   "metadata": {},
   "outputs": [],
   "source": [
    "CONFIG_FILE = 'configs/esann25/experiment_config.json'\n",
    "\n",
    "with open(CONFIG_FILE, 'r') as f:\n",
    "    config = json.load(f)\n",
    "\n",
    "openai_models = config[\"openai_models\"]\n",
    "huggingface_models = config[\"huggingface_models\"]\n",
    "models = huggingface_models + openai_models\n",
    "emb_dir = '../%s' % config['embedding_dir']"
   ]
  },
  {
   "cell_type": "code",
   "execution_count": 3,
   "id": "ef87f0f0-d54d-4362-8d03-bba006647b0e",
   "metadata": {},
   "outputs": [],
   "source": [
    "def get_dataset_stats(g_train, g_test, groups):\n",
    "    stats = {'train': {group: 0 for group in groups}, 'test': {group: 0 for group in groups}}\n",
    "    df = pd.DataFrame(stats)\n",
    "    \n",
    "    if g_test.ndim == 1:\n",
    "        # single-label\n",
    "        if len(g_train) > 0:\n",
    "            df.loc[groups[1], 'train'] = np.sum(g_train)\n",
    "            df.loc[groups[0], 'train'] = len(g_train)-np.sum(g_train)\n",
    "        df.loc[groups[1], 'test'] = np.sum(g_test)\n",
    "        df.loc[groups[0], 'test'] = len(g_test)-np.sum(g_test)\n",
    "        \n",
    "        df.loc['total', :] = df.loc[groups, :].sum(axis=0)\n",
    "    else:\n",
    "        # multi-label\n",
    "        for i, group in enumerate(groups):\n",
    "            if len(g_train) > 0:\n",
    "                df.loc[group, 'train'] = np.sum(g_train[:,i])\n",
    "            df.loc[group, 'test'] = np.sum(g_test[:,i])\n",
    "        df.loc['total', 'train'] = len(g_train)\n",
    "        df.loc['total', 'test'] = len(g_test)\n",
    "    return df\n",
    "\n",
    "\n",
    "def print_dataset_stats(ds: CustomDataset, as_percentage=True):\n",
    "    # protected groups\n",
    "    group_dist = {split: {group: 0 for group in ds.group_names} for split in ds.splits}\n",
    "    group_df = pd.DataFrame(group_dist)\n",
    "\n",
    "    for split in ds.splits:\n",
    "        for i, group in enumerate(ds.group_names):\n",
    "            group_df.loc[group, split] = np.sum(ds.protected_groups[split][:,i])\n",
    "        total = ds.n_samples[split]\n",
    "        if as_percentage:\n",
    "            group_df.loc[:,split] *= 100/total\n",
    "        group_df.loc['total #', split] = total\n",
    "\n",
    "    if as_percentage:\n",
    "        group_df.columns = [(col+' [%]') for col in group_df.columns]\n",
    "    \n",
    "    print(\"protected groups:\")\n",
    "    print(group_df)\n",
    "    print()\n",
    "\n",
    "    # classes\n",
    "    if not ds.unlabeled:\n",
    "        lbl_dist = {split: {cls: 0 for cls in ds.class_names} for split in ds.splits}\n",
    "        lbl_df = pd.DataFrame(lbl_dist)\n",
    "    \n",
    "        for split in ds.splits:\n",
    "            if ds.multi_label:\n",
    "                for i, cls in enumerate(ds.class_names):\n",
    "                    lbl_df.loc[cls, split] = np.sum(ds.labels[split][:,i])\n",
    "            else: # single-label\n",
    "                for i, cls in enumerate(ds.class_names):\n",
    "                    lbl_df.loc[cls, split] = np.sum(ds.labels[split] == i)\n",
    "            total = ds.n_samples[split]\n",
    "            if as_percentage:\n",
    "                lbl_df.loc[:,split] *= 100/total\n",
    "            lbl_df.loc['total #', split] = total\n",
    "\n",
    "        if as_percentage:\n",
    "            lbl_df.columns = [(col+' [%]') for col in lbl_df.columns]\n",
    "    \n",
    "        print(\"class label:\")\n",
    "        print(lbl_df)"
   ]
  },
  {
   "cell_type": "code",
   "execution_count": 4,
   "id": "79b2dbe3-4d41-4125-8142-6828f8cec3bc",
   "metadata": {},
   "outputs": [
    {
     "name": "stderr",
     "output_type": "stream",
     "text": [
      "Using the latest cached version of the dataset since McGill-NLP/stereoset couldn't be found on the Hugging Face Hub\n",
      "Found the latest cached dataset configuration 'intersentence' at /home/saschroeder/.cache/huggingface/datasets/McGill-NLP___stereoset/intersentence/0.0.0/bf6e7ce50491784d094fb7afe60a70ecccb89035 (last modified on Wed May  7 13:03:29 2025).\n"
     ]
    },
    {
     "name": "stdout",
     "output_type": "stream",
     "text": [
      "load Stereoset with option both\n",
      "Load inter- and intrasentence samples and merge them to one dataset\n"
     ]
    },
    {
     "name": "stderr",
     "output_type": "stream",
     "text": [
      "Using the latest cached version of the dataset since McGill-NLP/stereoset couldn't be found on the Hugging Face Hub\n",
      "Found the latest cached dataset configuration 'intrasentence' at /home/saschroeder/.cache/huggingface/datasets/McGill-NLP___stereoset/intrasentence/0.0.0/bf6e7ce50491784d094fb7afe60a70ecccb89035 (last modified on Wed May  7 13:03:32 2025).\n"
     ]
    },
    {
     "name": "stdout",
     "output_type": "stream",
     "text": [
      "compute class weights for split val \n",
      "protected groups:\n",
      "                       val [%]\n",
      "european/white       11.153149\n",
      "african/black        14.644912\n",
      "hispanic              5.005123\n",
      "south east asian      5.359817\n",
      "middle east          13.210373\n",
      "male                 26.026641\n",
      "female               15.448885\n",
      "christian             1.505478\n",
      "muslim                1.891700\n",
      "hindu                 1.166548\n",
      "jewish                0.173406\n",
      "total #           12687.000000\n",
      "\n",
      "class label:\n",
      "                      val [%]\n",
      "anti-stereotype     33.333333\n",
      "stereotype          33.333333\n",
      "unrelated           33.333333\n",
      "total #          12687.000000\n"
     ]
    },
    {
     "name": "stderr",
     "output_type": "stream",
     "text": [
      "/tmp/ipykernel_433210/2816108568.py:35: FutureWarning: Setting an item of incompatible dtype is deprecated and will raise in a future error of pandas. Value '[11.15314889 14.64491211  5.00512335  5.35981714 13.21037282 26.02664144\n",
      " 15.44888469  1.50547805  1.89170017  1.16654844  0.17340585]' has dtype incompatible with int64, please explicitly cast to a compatible dtype first.\n",
      "  group_df.loc[:,split] *= 100/total\n",
      "/tmp/ipykernel_433210/2816108568.py:59: FutureWarning: Setting an item of incompatible dtype is deprecated and will raise in a future error of pandas. Value '[33.33333333 33.33333333 33.33333333]' has dtype incompatible with int64, please explicitly cast to a compatible dtype first.\n",
      "  lbl_df.loc[:,split] *= 100/total\n"
     ]
    }
   ],
   "source": [
    "stereoset = StereoSet()\n",
    "print_dataset_stats(stereoset)"
   ]
  },
  {
   "cell_type": "code",
   "execution_count": 38,
   "id": "69f8a33c-a541-45e1-957f-c75a239d698d",
   "metadata": {},
   "outputs": [
    {
     "name": "stdout",
     "output_type": "stream",
     "text": [
      "load crowspairs\n",
      "protected groups:\n",
      "                                       test [%]\n",
      "black                                 10.444297\n",
      "white                                 12.665782\n",
      "asian                                  1.094164\n",
      "poor                                   4.244032\n",
      "rich                                   2.751989\n",
      "male                                  43.103448\n",
      "female                                23.309019\n",
      "physical disability, sickness          1.326260\n",
      "mental_disability_illness              1.094164\n",
      "foreigner, immigrant, undocumented     0.530504\n",
      "canadian                               0.397878\n",
      "us american                            5.935013\n",
      "mexican                                1.591512\n",
      "chinese                                0.961538\n",
      "italian                                0.928382\n",
      "british                                0.464191\n",
      "russian                                0.298408\n",
      "indian                                 0.629973\n",
      "homosexual                             2.055703\n",
      "heterosexual                           1.923077\n",
      "overweight                             1.425729\n",
      "underweight                            0.828912\n",
      "fit                                    0.961538\n",
      "tall                                   1.061008\n",
      "short                                  0.596817\n",
      "christian                              3.017241\n",
      "muslim                                 1.293103\n",
      "jewish                                 1.558355\n",
      "old                                    2.818302\n",
      "young                                  3.282493\n",
      "total #                             3016.000000\n",
      "\n",
      "class label:\n",
      "            test [%]\n",
      "stereo          50.0\n",
      "antistereo      50.0\n",
      "total #       3016.0\n"
     ]
    },
    {
     "name": "stderr",
     "output_type": "stream",
     "text": [
      "/tmp/ipykernel_122704/2816108568.py:35: FutureWarning: Setting an item of incompatible dtype is deprecated and will raise in a future error of pandas. Value '[10.44429708 12.66578249  1.09416446  4.24403183  2.75198939 43.10344828\n",
      " 23.30901857  1.32625995  1.09416446  0.53050398  0.39787798  5.93501326\n",
      "  1.59151194  0.96153846  0.92838196  0.46419098  0.29840849  0.62997347\n",
      "  2.05570292  1.92307692  1.42572944  0.82891247  0.96153846  1.06100796\n",
      "  0.59681698  3.01724138  1.29310345  1.55835544  2.81830239  3.28249337]' has dtype incompatible with int64, please explicitly cast to a compatible dtype first.\n",
      "  group_df.loc[:,split] *= 100/total\n",
      "/tmp/ipykernel_122704/2816108568.py:59: FutureWarning: Setting an item of incompatible dtype is deprecated and will raise in a future error of pandas. Value '[50. 50.]' has dtype incompatible with int64, please explicitly cast to a compatible dtype first.\n",
      "  lbl_df.loc[:,split] *= 100/total\n"
     ]
    }
   ],
   "source": [
    "csp = CrowSPairs()\n",
    "print_dataset_stats(csp)"
   ]
  },
  {
   "cell_type": "code",
   "execution_count": 39,
   "id": "bb57b00e-0f57-48da-8598-3a7b12d728f8",
   "metadata": {},
   "outputs": [
    {
     "name": "stdout",
     "output_type": "stream",
     "text": [
      "load twitterAAE\n",
      "protected groups:\n",
      "         test [%]\n",
      "aa           50.0\n",
      "white        50.0\n",
      "total #  100000.0\n",
      "\n"
     ]
    }
   ],
   "source": [
    "taae = TwitterAAE()\n",
    "print_dataset_stats(taae)"
   ]
  },
  {
   "cell_type": "code",
   "execution_count": 40,
   "id": "db9285a4-e905-4e53-9df0-baeb039946d0",
   "metadata": {},
   "outputs": [
    {
     "name": "stdout",
     "output_type": "stream",
     "text": [
      "load BIOS with option unsupervised\n",
      "protected groups:\n",
      "             train [%]      test [%]       dev [%]\n",
      "male         53.899751     53.898798     53.897382\n",
      "female       46.100249     46.101202     46.102618\n",
      "total #  257478.000000  99069.000000  39642.000000\n",
      "\n",
      "class label:\n",
      "                       train [%]      test [%]       dev [%]\n",
      "accountant              1.421481      1.422241      1.422733\n",
      "architect               2.550898      2.551757      2.552848\n",
      "attorney                8.221673      8.219524      8.218556\n",
      "chiropractor            0.669960      0.670240      0.671005\n",
      "comedian                0.708410      0.709606      0.711367\n",
      "composer                1.412548      1.414166      1.415166\n",
      "dentist                 3.681480      3.681273      3.680440\n",
      "dietitian               0.996978      0.998294      0.998941\n",
      "dj                      0.374401      0.375496      0.378387\n",
      "filmmaker               1.765199      1.766446      1.768327\n",
      "interior_designer       0.368575      0.369439      0.368296\n",
      "journalist              5.033440      5.032856      5.032541\n",
      "model                   1.890259      1.891611      1.891933\n",
      "nurse                   4.783321      4.782525      4.782806\n",
      "painter                 1.951623      1.953184      1.952475\n",
      "paralegal               0.445087      0.446154      0.446496\n",
      "pastor                  0.636171      0.637939      0.638212\n",
      "personal_trainer        0.360419      0.361364      0.363251\n",
      "photographer            6.125960      6.125024      6.124817\n",
      "physician              10.349622     10.346324     10.342566\n",
      "poet                    1.770248      1.770483      1.770849\n",
      "professor              29.807595     29.797414     29.786590\n",
      "psychologist            4.639231      4.639191      4.639019\n",
      "rapper                  0.353817      0.354299      0.355683\n",
      "software_engineer       1.744615      1.744239      1.745623\n",
      "surgeon                 3.429031      3.429933      3.430705\n",
      "teacher                 4.090058      4.089069      4.089097\n",
      "yoga_teacher            0.417900      0.419909      0.421270\n",
      "total #            257478.000000  99069.000000  39642.000000\n"
     ]
    },
    {
     "name": "stderr",
     "output_type": "stream",
     "text": [
      "/tmp/ipykernel_122704/2816108568.py:35: FutureWarning: Setting an item of incompatible dtype is deprecated and will raise in a future error of pandas. Value '[53.89975066 46.10024934]' has dtype incompatible with int64, please explicitly cast to a compatible dtype first.\n",
      "  group_df.loc[:,split] *= 100/total\n",
      "/tmp/ipykernel_122704/2816108568.py:59: FutureWarning: Setting an item of incompatible dtype is deprecated and will raise in a future error of pandas. Value '[ 1.42148067  2.55089755  8.22167331  0.66996015  0.70841004  1.41254787\n",
      "  3.68147958  0.99697838  0.37440092  1.76519936  0.36857518  5.03343975\n",
      "  1.89025859  4.78332129  1.95162305  0.44508657  0.63617086  0.36041914\n",
      "  6.12596028 10.3496221   1.77024833 29.80759521  4.63923131  0.35381664\n",
      "  1.74461507  3.42903083  4.09005818  0.41789978]' has dtype incompatible with int64, please explicitly cast to a compatible dtype first.\n",
      "  lbl_df.loc[:,split] *= 100/total\n"
     ]
    }
   ],
   "source": [
    "bios = BiosDataset(option='unsupervised')\n",
    "print_dataset_stats(bios)"
   ]
  },
  {
   "cell_type": "code",
   "execution_count": 41,
   "id": "41314d90-d425-491f-9c50-3c0ba0d4129a",
   "metadata": {},
   "outputs": [
    {
     "name": "stdout",
     "output_type": "stream",
     "text": [
      "load BIOS with option supervised\n",
      "protected groups:\n",
      "           train [%]  test [%]      dev [%]\n",
      "male       57.346444     56.12    57.839388\n",
      "female     42.653556     43.88    42.160612\n",
      "total #  7017.000000   2500.00  1046.000000\n",
      "\n",
      "class label:\n",
      "                train [%]  test [%]      dev [%]\n",
      "architect        3.648283      3.40     3.154876\n",
      "surgeon         10.089782     10.16    10.038241\n",
      "dentist          1.667379      1.12     1.720841\n",
      "teacher         12.042183     13.08    12.141491\n",
      "psychologist     9.633747      8.68     9.177820\n",
      "nurse            6.156477      6.32     5.736138\n",
      "photographer    17.030070     16.72    17.304015\n",
      "physician       11.742910     10.80    10.420650\n",
      "attorney        13.025509     14.48    15.105163\n",
      "journalist      17.300841     18.04    17.304015\n",
      "total #       7017.000000   2500.00  1046.000000\n"
     ]
    },
    {
     "name": "stderr",
     "output_type": "stream",
     "text": [
      "/tmp/ipykernel_122704/2816108568.py:35: FutureWarning: Setting an item of incompatible dtype is deprecated and will raise in a future error of pandas. Value '[57.34644435 42.65355565]' has dtype incompatible with int64, please explicitly cast to a compatible dtype first.\n",
      "  group_df.loc[:,split] *= 100/total\n",
      "/tmp/ipykernel_122704/2816108568.py:59: FutureWarning: Setting an item of incompatible dtype is deprecated and will raise in a future error of pandas. Value '[ 3.64828274 10.08978196  1.66737922 12.04218327  9.63374662  6.15647713\n",
      " 17.03006983 11.74291008 13.02550948 17.30084082]' has dtype incompatible with int64, please explicitly cast to a compatible dtype first.\n",
      "  lbl_df.loc[:,split] *= 100/total\n"
     ]
    }
   ],
   "source": [
    "local_dir = '../../../data/bios_huggingface_merge.pkl'\n",
    "bios = BiosDataset(option='supervised', local_dir=local_dir)\n",
    "print_dataset_stats(bios)"
   ]
  },
  {
   "cell_type": "code",
   "execution_count": 5,
   "id": "961b1378-70df-42a4-b9c2-a40f5d2a599a",
   "metadata": {},
   "outputs": [
    {
     "name": "stdout",
     "output_type": "stream",
     "text": [
      "load JigsawBias with option: multi-class\n",
      "protected groups:\n",
      "                                         train [%]       dev [%]      test [%]\n",
      "female                                   11.159822     10.230500     10.080623\n",
      "male                                      8.363369      8.040201      7.380553\n",
      "transgender                               0.392480      0.426043      0.384178\n",
      "white                                     3.797435      3.561285      3.181646\n",
      "asian                                     0.674060      0.704610      0.589795\n",
      "black                                     2.069832      1.878960      1.834316\n",
      "latino                                    0.245191      0.245794      0.297603\n",
      "atheist                                   0.265407      0.507975      0.611439\n",
      "buddhist                                  0.101947      0.071007      0.097397\n",
      "christian                                 7.610755      7.324667      7.375142\n",
      "hindu                                     0.102235      0.081931      0.091986\n",
      "jewish                                    1.483278      1.540310      1.423083\n",
      "muslim                                    3.589499      3.075158      3.327742\n",
      "heterosexual                              0.161728      0.174787      0.167740\n",
      "bisexual                                  0.027147      0.016386      0.043288\n",
      "homosexual_gay_or_lesbian                 1.567319      1.403758      1.352741\n",
      "intellectual_or_learning_disability       0.004621      0.016386      0.005411\n",
      "physical_disability                       0.004043      0.005462      0.005411\n",
      "psychiatric_or_mental_illness             0.716802      0.699148      0.627672\n",
      "total #                              346260.000000  18308.000000  18481.000000\n",
      "\n",
      "class label:\n",
      "                     train [%]       dev [%]      test [%]\n",
      "target                2.926414      2.883985      2.889454\n",
      "obscene               0.151909      0.120166      0.135274\n",
      "identity_attack       0.389303      0.327726      0.357124\n",
      "insult                2.553284      2.589032      2.532331\n",
      "threat                0.063825      0.071007      0.070343\n",
      "sexual_explicit       0.064980      0.065545      0.075753\n",
      "total #          346260.000000  18308.000000  18481.000000\n"
     ]
    },
    {
     "name": "stderr",
     "output_type": "stream",
     "text": [
      "/tmp/ipykernel_123613/2816108568.py:35: FutureWarning: Setting an item of incompatible dtype is deprecated and will raise in a future error of pandas. Value '[1.11598221e+01 8.36336857e+00 3.92479640e-01 3.79743545e+00\n",
      " 6.74059955e-01 2.06983192e+00 2.45191475e-01 2.65407497e-01\n",
      " 1.01946514e-01 7.61075492e+00 1.02235315e-01 1.48327846e+00\n",
      " 3.58949922e+00 1.61728181e-01 2.71472304e-02 1.56731936e+00\n",
      " 4.62080518e-03 4.04320453e-03 7.16802403e-01]' has dtype incompatible with int64, please explicitly cast to a compatible dtype first.\n",
      "  group_df.loc[:,split] *= 100/total\n",
      "/tmp/ipykernel_123613/2816108568.py:59: FutureWarning: Setting an item of incompatible dtype is deprecated and will raise in a future error of pandas. Value '[2.92641368 0.15190897 0.38930284 2.55328366 0.06382487 0.06498007]' has dtype incompatible with int64, please explicitly cast to a compatible dtype first.\n",
      "  lbl_df.loc[:,split] *= 100/total\n"
     ]
    }
   ],
   "source": [
    "local_dir = '../../../data/jigsaw_bias'\n",
    "jigsaw = JigsawBias(option='multi-class', local_dir=local_dir)\n",
    "print_dataset_stats(jigsaw)"
   ]
  },
  {
   "cell_type": "code",
   "execution_count": 4,
   "id": "0c6d48eb-ab16-4cf1-ba3b-de134b0f056c",
   "metadata": {},
   "outputs": [
    {
     "name": "stdout",
     "output_type": "stream",
     "text": [
      "load JigsawBias with option: single-class\n",
      "protected groups:\n",
      "                                         train [%]       dev [%]      test [%]\n",
      "female                                   11.312843     10.346472     10.161748\n",
      "male                                      8.495626      8.195592      7.488709\n",
      "transgender                               0.413703      0.455605      0.393866\n",
      "white                                     4.237590      4.111040      3.523790\n",
      "asian                                     0.678955      0.704598      0.577670\n",
      "black                                     2.380265      2.230345      2.153135\n",
      "latino                                    0.256289      0.254291      0.309841\n",
      "atheist                                   0.274775      0.519178      0.614431\n",
      "buddhist                                  0.103356      0.074168      0.099779\n",
      "christian                                 7.649733      7.347955      7.420439\n",
      "hindu                                     0.102516      0.084764      0.089276\n",
      "jewish                                    1.539414      1.599915      1.486188\n",
      "muslim                                    3.864780      3.316381      3.539544\n",
      "heterosexual                              0.177862      0.201314      0.168050\n",
      "bisexual                                  0.028290      0.015893      0.042012\n",
      "homosexual_gay_or_lesbian                 1.783939      1.605213      1.480937\n",
      "intellectual_or_learning_disability       0.004482      0.015893      0.005252\n",
      "physical_disability                       0.003921      0.005298      0.005252\n",
      "psychiatric_or_mental_illness             0.720970      0.699301      0.666947\n",
      "total #                              357019.000000  18876.000000  19042.000000\n",
      "\n",
      "class label:\n",
      "               train [%]       dev [%]    test [%]\n",
      "not toxic      94.816802     94.855902     94.9165\n",
      "toxic           5.183198      5.144098      5.0835\n",
      "total #    357019.000000  18876.000000  19042.0000\n"
     ]
    },
    {
     "name": "stderr",
     "output_type": "stream",
     "text": [
      "/tmp/ipykernel_130334/2816108568.py:35: FutureWarning: Setting an item of incompatible dtype is deprecated and will raise in a future error of pandas. Value '[1.13128433e+01 8.49562628e+00 4.13703472e-01 4.23758960e+00\n",
      " 6.78955462e-01 2.38026548e+00 2.56288881e-01 2.74775292e-01\n",
      " 1.03355844e-01 7.64973293e+00 1.02515552e-01 1.53941387e+00\n",
      " 3.86478031e+00 1.77861682e-01 2.82898109e-02 1.78393867e+00\n",
      " 4.48155420e-03 3.92135993e-03 7.20970032e-01]' has dtype incompatible with int64, please explicitly cast to a compatible dtype first.\n",
      "  group_df.loc[:,split] *= 100/total\n",
      "/tmp/ipykernel_130334/2816108568.py:59: FutureWarning: Setting an item of incompatible dtype is deprecated and will raise in a future error of pandas. Value '[94.81680247  5.18319753]' has dtype incompatible with int64, please explicitly cast to a compatible dtype first.\n",
      "  lbl_df.loc[:,split] *= 100/total\n"
     ]
    }
   ],
   "source": [
    "local_dir = '../../../data/jigsaw_bias'\n",
    "jigsaw = JigsawBias(option='single-class', local_dir=local_dir)\n",
    "print_dataset_stats(jigsaw)"
   ]
  },
  {
   "cell_type": "code",
   "execution_count": 4,
   "id": "bd355a08-69e0-4398-9a7a-37e4a755ae16",
   "metadata": {},
   "outputs": [
    {
     "name": "stderr",
     "output_type": "stream",
     "text": [
      "Using the latest cached version of the module from /home/saschroeder/.cache/huggingface/modules/datasets_modules/datasets/allenai--social_bias_frames/79706db13a32c7f9614b997cc4326cbda14e6d3968892a3f0e76c4a970e7e510 (last modified on Thu Apr 10 17:11:43 2025) since it couldn't be found locally at allenai/social_bias_frames, or remotely on the Hugging Face Hub.\n"
     ]
    },
    {
     "name": "stdout",
     "output_type": "stream",
     "text": [
      "load SBIC with local file: ../../../data/filtered_sbic_minority_overview.csv\n"
     ]
    },
    {
     "name": "stderr",
     "output_type": "stream",
     "text": [
      "Using the latest cached version of the module from /home/saschroeder/.cache/huggingface/modules/datasets_modules/datasets/allenai--social_bias_frames/79706db13a32c7f9614b997cc4326cbda14e6d3968892a3f0e76c4a970e7e510 (last modified on Thu Apr 10 17:11:43 2025) since it couldn't be found locally at allenai/social_bias_frames, or remotely on the Hugging Face Hub.\n",
      "Using the latest cached version of the module from /home/saschroeder/.cache/huggingface/modules/datasets_modules/datasets/allenai--social_bias_frames/79706db13a32c7f9614b997cc4326cbda14e6d3968892a3f0e76c4a970e7e510 (last modified on Thu Apr 10 17:11:43 2025) since it couldn't be found locally at allenai/social_bias_frames, or remotely on the Hugging Face Hub.\n"
     ]
    },
    {
     "name": "stdout",
     "output_type": "stream",
     "text": [
      "compute class weights for split train \n",
      "compute class weights for split test \n",
      "no samples found for label cancer\n",
      "no samples found for label orphans\n",
      "compute class weights for split val \n",
      "protected groups:\n",
      "                                       train [%]     test [%]      val [%]\n",
      "white                                   0.333955     0.361318     0.277778\n",
      "black                                   8.312693    14.410202    13.611111\n",
      "asian                                   1.775527     2.146652     2.371795\n",
      "non-white                               8.479670    14.495218    13.717949\n",
      "latin-american                          0.111318     0.233794     0.235043\n",
      "hispanic                                0.976818     1.530287     1.239316\n",
      "mixed race                              0.016698     0.021254     0.064103\n",
      "middle eastern                          0.484235     0.488842     0.555556\n",
      "male                                    1.730999     1.806589     2.029915\n",
      "female                                  8.802494     9.691817     9.401709\n",
      "non-binary                              0.027830     0.021254     0.042735\n",
      "trans                                   0.434141     0.616366     0.534188\n",
      "bisexual                                0.247683     0.340064     0.320513\n",
      "homosexual                              1.491665     1.657811     1.709402\n",
      "lgbtq+                                  1.808922     2.082891     2.136752\n",
      "christian                               0.434141     0.573858     0.662393\n",
      "jewish                                  2.769042     4.994687     3.717949\n",
      "muslim/islam                            1.452704     2.082891     1.773504\n",
      "religion                                4.622492     7.630181     6.068376\n",
      "indigenous                              0.467537     0.701382     0.619658\n",
      "physical illness/ disorder              0.414661     0.297556     0.534188\n",
      "mental illness/ disorder                0.715220     0.743889     0.641026\n",
      "physical disability                     0.985167     1.253985     0.961538\n",
      "mental disability                       0.706871     1.083953     0.897436\n",
      "autism                                  0.019481     0.063762     0.042735\n",
      "cancer                                  0.055659     0.000000     0.021368\n",
      "overweight                              0.342304     0.510096     0.512821\n",
      "children                                0.384048     0.403826     0.512821\n",
      "minors                                  0.411878     0.403826     0.512821\n",
      "old people                              0.125233     0.106270     0.085470\n",
      "bad looking                             0.130799     0.148778     0.064103\n",
      "poor                                    0.222637     0.403826     0.192308\n",
      "political group                         0.907244     1.041445     1.025641\n",
      "feminist                                0.267164     0.552604     0.320513\n",
      "liberal                                 0.718003     0.786397     0.854701\n",
      "conservatives                           0.189241     0.233794     0.213675\n",
      "orphans                                 0.102969     0.000000     0.042735\n",
      "activists                               0.019481     0.021254     0.042735\n",
      "police                                  0.072357     0.042508     0.064103\n",
      "violence victims                        4.925834     3.995749     3.888889\n",
      "sexual assault/harassment victims       0.954554     0.531350     0.405983\n",
      "holocaust victims                       0.342304     0.637620     0.427350\n",
      "genocide victims                        0.389614     0.701382     0.555556\n",
      "terrorism victims                       0.882197     0.616366     1.025641\n",
      "shooting victims                        0.921159     0.828905     0.705128\n",
      "accident/ natural disaster victims      0.128016     0.042508     0.021368\n",
      "total #                             35933.000000  4705.000000  4680.000000\n",
      "\n",
      "class label:\n",
      "                train [%]     test [%]      val [%]\n",
      "offensiveYN     45.607102    51.859724    49.444444\n",
      "intentYN        47.688754    53.007439    51.623932\n",
      "sexYN            8.794145     8.140276     7.756410\n",
      "total #      35933.000000  4705.000000  4680.000000\n"
     ]
    },
    {
     "name": "stderr",
     "output_type": "stream",
     "text": [
      "/tmp/ipykernel_435370/2816108568.py:35: FutureWarning: Setting an item of incompatible dtype is deprecated and will raise in a future error of pandas. Value '[0.33395486 8.31269307 1.77552667 8.4796705  0.11131829 0.97681797\n",
      " 0.01669774 0.48423455 1.73099936 8.80249353 0.02782957 0.43414132\n",
      " 0.24768319 1.49166504 1.80892216 0.43414132 2.76904238 1.45270364\n",
      " 4.62249186 0.4675368  0.41466062 0.71521999 0.98516684 0.70687112\n",
      " 0.0194807  0.05565914 0.34230373 0.38404809 0.41187766 0.12523307\n",
      " 0.13079899 0.22263657 0.90724404 0.26716389 0.71800295 0.18924109\n",
      " 0.10296942 0.0194807  0.07235689 4.92583419 0.95455431 0.34230373\n",
      " 0.389614   0.88219742 0.92115882 0.12801603]' has dtype incompatible with int64, please explicitly cast to a compatible dtype first.\n",
      "  group_df.loc[:,split] *= 100/total\n",
      "/tmp/ipykernel_435370/2816108568.py:59: FutureWarning: Setting an item of incompatible dtype is deprecated and will raise in a future error of pandas. Value '[45.60710211 47.68875407  8.79414466]' has dtype incompatible with int64, please explicitly cast to a compatible dtype first.\n",
      "  lbl_df.loc[:,split] *= 100/total\n"
     ]
    }
   ],
   "source": [
    "local_dir='../../../data/filtered_sbic_minority_overview.csv'\n",
    "sbic = SBICDataset(local_dir=local_dir)\n",
    "print_dataset_stats(sbic)"
   ]
  },
  {
   "cell_type": "code",
   "execution_count": null,
   "id": "fd968273-9c2f-4081-bdec-a49796b804e0",
   "metadata": {},
   "outputs": [],
   "source": []
  },
  {
   "cell_type": "code",
   "execution_count": null,
   "id": "e1fd5ee3-452b-4eed-87a7-e80c15f0c3c5",
   "metadata": {},
   "outputs": [],
   "source": []
  }
 ],
 "metadata": {
  "kernelspec": {
   "display_name": "Python 3 (ipykernel)",
   "language": "python",
   "name": "python3"
  },
  "language_info": {
   "codemirror_mode": {
    "name": "ipython",
    "version": 3
   },
   "file_extension": ".py",
   "mimetype": "text/x-python",
   "name": "python",
   "nbconvert_exporter": "python",
   "pygments_lexer": "ipython3",
   "version": "3.12.9"
  }
 },
 "nbformat": 4,
 "nbformat_minor": 5
}
